{
 "cells": [
  {
   "cell_type": "code",
   "execution_count": 119,
   "id": "28dc565e-f7c1-4b4b-b408-2de251d2b968",
   "metadata": {},
   "outputs": [],
   "source": [
    "import pandas as pd\n",
    "from sklearn.model_selection import train_test_split\n",
    "from sklearn.preprocessing import LabelEncoder\n",
    "from sklearn.naive_bayes import GaussianNB\n",
    "from sklearn.tree import DecisionTreeClassifier\n",
    "from sklearn.ensemble import RandomForestClassifier\n",
    "from sklearn.metrics import (\n",
    "    accuracy_score,\n",
    "    precision_score,\n",
    "    recall_score,\n",
    "    f1_score,\n",
    "    confusion_matrix,\n",
    "    classification_report\n",
    ")\n",
    "import matplotlib.pyplot as plt\n",
    "import seaborn as sns\n",
    "from sklearn.metrics import confusion_matrix\n"
   ]
  },
  {
   "cell_type": "code",
   "execution_count": 68,
   "id": "a37a1532-2efd-4f0b-a683-96e020d55776",
   "metadata": {},
   "outputs": [],
   "source": [
    "# Define column names based on breast-cancer-wisconsin.names\n",
    "column_names = [\n",
    "    \"Sample_code_number\", \"Clump_Thickness\", \"Uniformity_Cell_Size\",\n",
    "    \"Uniformity_Cell_Shape\", \"Marginal_Adhesion\", \"Single_Epithelial_Cell_Size\",\n",
    "    \"Bare_Nuclei\", \"Bland_Chromatin\", \"Normal_Nucleoli\", \"Mitoses\", \"Class\"\n",
    "]\n",
    "\n",
    "# Load the data\n",
    "data_path = \"breast+cancer+wisconsin+original/breast-cancer-wisconsin.data\"\n",
    "df = pd.read_csv(data_path, header=None, names=column_names)"
   ]
  },
  {
   "cell_type": "code",
   "execution_count": 70,
   "id": "673f4371-4b80-488f-affb-72637abbb9bc",
   "metadata": {
    "scrolled": true
   },
   "outputs": [
    {
     "data": {
      "text/html": [
       "<div>\n",
       "<style scoped>\n",
       "    .dataframe tbody tr th:only-of-type {\n",
       "        vertical-align: middle;\n",
       "    }\n",
       "\n",
       "    .dataframe tbody tr th {\n",
       "        vertical-align: top;\n",
       "    }\n",
       "\n",
       "    .dataframe thead th {\n",
       "        text-align: right;\n",
       "    }\n",
       "</style>\n",
       "<table border=\"1\" class=\"dataframe\">\n",
       "  <thead>\n",
       "    <tr style=\"text-align: right;\">\n",
       "      <th></th>\n",
       "      <th>Sample_code_number</th>\n",
       "      <th>Clump_Thickness</th>\n",
       "      <th>Uniformity_Cell_Size</th>\n",
       "      <th>Uniformity_Cell_Shape</th>\n",
       "      <th>Marginal_Adhesion</th>\n",
       "      <th>Single_Epithelial_Cell_Size</th>\n",
       "      <th>Bare_Nuclei</th>\n",
       "      <th>Bland_Chromatin</th>\n",
       "      <th>Normal_Nucleoli</th>\n",
       "      <th>Mitoses</th>\n",
       "      <th>Class</th>\n",
       "    </tr>\n",
       "  </thead>\n",
       "  <tbody>\n",
       "    <tr>\n",
       "      <th>0</th>\n",
       "      <td>1000025</td>\n",
       "      <td>5</td>\n",
       "      <td>1</td>\n",
       "      <td>1</td>\n",
       "      <td>1</td>\n",
       "      <td>2</td>\n",
       "      <td>1</td>\n",
       "      <td>3</td>\n",
       "      <td>1</td>\n",
       "      <td>1</td>\n",
       "      <td>2</td>\n",
       "    </tr>\n",
       "    <tr>\n",
       "      <th>1</th>\n",
       "      <td>1002945</td>\n",
       "      <td>5</td>\n",
       "      <td>4</td>\n",
       "      <td>4</td>\n",
       "      <td>5</td>\n",
       "      <td>7</td>\n",
       "      <td>10</td>\n",
       "      <td>3</td>\n",
       "      <td>2</td>\n",
       "      <td>1</td>\n",
       "      <td>2</td>\n",
       "    </tr>\n",
       "    <tr>\n",
       "      <th>2</th>\n",
       "      <td>1015425</td>\n",
       "      <td>3</td>\n",
       "      <td>1</td>\n",
       "      <td>1</td>\n",
       "      <td>1</td>\n",
       "      <td>2</td>\n",
       "      <td>2</td>\n",
       "      <td>3</td>\n",
       "      <td>1</td>\n",
       "      <td>1</td>\n",
       "      <td>2</td>\n",
       "    </tr>\n",
       "    <tr>\n",
       "      <th>3</th>\n",
       "      <td>1016277</td>\n",
       "      <td>6</td>\n",
       "      <td>8</td>\n",
       "      <td>8</td>\n",
       "      <td>1</td>\n",
       "      <td>3</td>\n",
       "      <td>4</td>\n",
       "      <td>3</td>\n",
       "      <td>7</td>\n",
       "      <td>1</td>\n",
       "      <td>2</td>\n",
       "    </tr>\n",
       "    <tr>\n",
       "      <th>4</th>\n",
       "      <td>1017023</td>\n",
       "      <td>4</td>\n",
       "      <td>1</td>\n",
       "      <td>1</td>\n",
       "      <td>3</td>\n",
       "      <td>2</td>\n",
       "      <td>1</td>\n",
       "      <td>3</td>\n",
       "      <td>1</td>\n",
       "      <td>1</td>\n",
       "      <td>2</td>\n",
       "    </tr>\n",
       "  </tbody>\n",
       "</table>\n",
       "</div>"
      ],
      "text/plain": [
       "   Sample_code_number  Clump_Thickness  Uniformity_Cell_Size  \\\n",
       "0             1000025                5                     1   \n",
       "1             1002945                5                     4   \n",
       "2             1015425                3                     1   \n",
       "3             1016277                6                     8   \n",
       "4             1017023                4                     1   \n",
       "\n",
       "   Uniformity_Cell_Shape  Marginal_Adhesion  Single_Epithelial_Cell_Size  \\\n",
       "0                      1                  1                            2   \n",
       "1                      4                  5                            7   \n",
       "2                      1                  1                            2   \n",
       "3                      8                  1                            3   \n",
       "4                      1                  3                            2   \n",
       "\n",
       "  Bare_Nuclei  Bland_Chromatin  Normal_Nucleoli  Mitoses  Class  \n",
       "0           1                3                1        1      2  \n",
       "1          10                3                2        1      2  \n",
       "2           2                3                1        1      2  \n",
       "3           4                3                7        1      2  \n",
       "4           1                3                1        1      2  "
      ]
     },
     "execution_count": 70,
     "metadata": {},
     "output_type": "execute_result"
    }
   ],
   "source": [
    "df.head()"
   ]
  },
  {
   "cell_type": "code",
   "execution_count": 72,
   "id": "9794e0f4-1c31-4274-bf25-081f1c536a39",
   "metadata": {
    "scrolled": true
   },
   "outputs": [
    {
     "data": {
      "text/plain": [
       "Sample_code_number              int64\n",
       "Clump_Thickness                 int64\n",
       "Uniformity_Cell_Size            int64\n",
       "Uniformity_Cell_Shape           int64\n",
       "Marginal_Adhesion               int64\n",
       "Single_Epithelial_Cell_Size     int64\n",
       "Bare_Nuclei                    object\n",
       "Bland_Chromatin                 int64\n",
       "Normal_Nucleoli                 int64\n",
       "Mitoses                         int64\n",
       "Class                           int64\n",
       "dtype: object"
      ]
     },
     "execution_count": 72,
     "metadata": {},
     "output_type": "execute_result"
    }
   ],
   "source": [
    "df.dtypes"
   ]
  },
  {
   "cell_type": "markdown",
   "id": "d36e9578-d84c-441f-8cd0-0de3a482d47d",
   "metadata": {},
   "source": [
    "# Looking at the data types we find 'Bare_Nuclei' is supposed to be integer/float. but it gives object data type so I need to find what causes it."
   ]
  },
  {
   "cell_type": "code",
   "execution_count": 75,
   "id": "27bd9c18-1540-4811-82c0-71b692999434",
   "metadata": {},
   "outputs": [
    {
     "name": "stdout",
     "output_type": "stream",
     "text": [
      "['?']\n"
     ]
    }
   ],
   "source": [
    "non_numeric_values = df[~df[col].apply(lambda x: str(x).replace('.', '', 1).isdigit())][col].unique()\n",
    "\n",
    "print(non_numeric_values)"
   ]
  },
  {
   "cell_type": "markdown",
   "id": "62d9e5f6-b6d9-4b8e-969f-e3a74a1b3e47",
   "metadata": {},
   "source": [
    "# We can see the column contains '?' in it."
   ]
  },
  {
   "cell_type": "markdown",
   "id": "053fe6aa-7c55-4db8-945b-595c40f64b5a",
   "metadata": {},
   "source": [
    "# PreProcessing the DataSet"
   ]
  },
  {
   "cell_type": "code",
   "execution_count": 79,
   "id": "be4be591-d0b0-47f7-8bd7-ecf3847a7e9a",
   "metadata": {},
   "outputs": [
    {
     "data": {
      "text/plain": [
       "Sample_code_number               int64\n",
       "Clump_Thickness                  int64\n",
       "Uniformity_Cell_Size             int64\n",
       "Uniformity_Cell_Shape            int64\n",
       "Marginal_Adhesion                int64\n",
       "Single_Epithelial_Cell_Size      int64\n",
       "Bare_Nuclei                    float64\n",
       "Bland_Chromatin                  int64\n",
       "Normal_Nucleoli                  int64\n",
       "Mitoses                          int64\n",
       "Class                            int64\n",
       "dtype: object"
      ]
     },
     "execution_count": 79,
     "metadata": {},
     "output_type": "execute_result"
    }
   ],
   "source": [
    "# Replace missing values represented by \"?\" with NaN\n",
    "df.replace(\"?\", pd.NA, inplace=True)\n",
    "\n",
    "# Convert all columns to appropriate types\n",
    "df[\"Bare_Nuclei\"] = pd.to_numeric(df[\"Bare_Nuclei\"], errors='coerce')\n",
    "\n",
    "df.dtypes"
   ]
  },
  {
   "cell_type": "markdown",
   "id": "11e5c5e6-7b47-4173-b15c-1f3bde4e28ec",
   "metadata": {},
   "source": [
    "### Dropping null values and ID column"
   ]
  },
  {
   "cell_type": "code",
   "execution_count": 82,
   "id": "bf2c6ddc-199c-4fbf-87d1-f259f04c9152",
   "metadata": {},
   "outputs": [],
   "source": [
    "df.dropna(inplace=True)\n",
    "# Drop the Sample_code_number (ID column)\n",
    "df.drop(\"Sample_code_number\", axis=1, inplace=True)"
   ]
  },
  {
   "cell_type": "markdown",
   "id": "ea20b4c2-4719-4d97-86af-502440f7e05e",
   "metadata": {},
   "source": [
    "# Converting the Class Column to 0 and 1 which suits for classification"
   ]
  },
  {
   "cell_type": "code",
   "execution_count": 85,
   "id": "1a699c0f-86ad-42ad-a683-8d1131115dde",
   "metadata": {},
   "outputs": [],
   "source": [
    "# Encode target labels: 2 (benign), 4 (malignant)\n",
    "label_encoder = LabelEncoder()\n",
    "df[\"Class\"] = label_encoder.fit_transform(df[\"Class\"])  # 0 = benign, 1 = malignant\n",
    "\n",
    "# Split features and target\n",
    "X = df.drop(\"Class\", axis=1)\n",
    "y = df[\"Class\"]"
   ]
  },
  {
   "cell_type": "markdown",
   "id": "07e077f5-03b0-4ce2-b680-3581f9fb745c",
   "metadata": {},
   "source": [
    "### Split the data into train and test Dataset"
   ]
  },
  {
   "cell_type": "code",
   "execution_count": 88,
   "id": "f5bdc7d3-1329-4415-aa76-995a481c1f52",
   "metadata": {},
   "outputs": [],
   "source": [
    "# Split into training and test sets\n",
    "X_train, X_test, y_train, y_test = train_test_split(X, y, test_size=0.2, random_state=42)"
   ]
  },
  {
   "cell_type": "markdown",
   "id": "c4663198-2fe5-459e-96bb-9a455f4bcb5b",
   "metadata": {},
   "source": [
    "# Train the model and check the Accuracy"
   ]
  },
  {
   "cell_type": "code",
   "execution_count": 111,
   "id": "70cf4cb8-a2bf-4991-922a-b56a379ee9c7",
   "metadata": {},
   "outputs": [],
   "source": [
    "# Custom function to fit, predict, and evaluate a classifier\n",
    "def assess_model_performance(classifier, train_data, test_data, train_labels, test_labels):\n",
    "    classifier.fit(train_data, train_labels)\n",
    "    predictions = classifier.predict(test_data)\n",
    "    \n",
    "    evaluation_metrics = {\n",
    "        \"Accuracy\": accuracy_score(test_labels, predictions),\n",
    "        \"Precision\": precision_score(test_labels, predictions),\n",
    "        \"Recall\": recall_score(test_labels, predictions),\n",
    "        \"F1 Score\": f1_score(test_labels, predictions),\n",
    "        \"Confusion Matrix\": confusion_matrix(test_labels, predictions)\n",
    "    }\n",
    "    \n",
    "    return evaluation_metrics"
   ]
  },
  {
   "cell_type": "code",
   "execution_count": 113,
   "id": "69134328-75a0-4f22-af53-372bed086c63",
   "metadata": {},
   "outputs": [],
   "source": [
    "# Instantiate classifiers\n",
    "naive_bayes_clf = GaussianNB()\n",
    "decision_tree_clf = DecisionTreeClassifier(random_state=42)\n",
    "random_forest_clf = RandomForestClassifier(random_state=42)\n",
    "\n",
    "# Run evaluations\n",
    "nb_metrics = assess_model_performance(naive_bayes_clf, X_train, X_test, y_train, y_test)\n",
    "dt_metrics = assess_model_performance(decision_tree_clf, X_train, X_test, y_train, y_test)\n",
    "rf_metrics = assess_model_performance(random_forest_clf, X_train, X_test, y_train, y_test)\n",
    "\n",
    "# Collate results into a structured DataFrame (excluding confusion matrices for brevity)\n",
    "summary_df = pd.DataFrame(\n",
    "    [nb_metrics, dt_metrics, rf_metrics],\n",
    "    index=[\"Naive Bayes\", \"Decision Tree\", \"Random Forest\"]\n",
    ").drop(columns=[\"Confusion Matrix\"])"
   ]
  },
  {
   "cell_type": "code",
   "execution_count": null,
   "id": "cd1794a2-4638-4969-a9bc-60508d8f8719",
   "metadata": {},
   "outputs": [],
   "source": []
  },
  {
   "cell_type": "code",
   "execution_count": 117,
   "id": "09a2c04a-acac-4415-b835-41e9f3da99aa",
   "metadata": {},
   "outputs": [
    {
     "data": {
      "text/html": [
       "<style type=\"text/css\">\n",
       "#T_fa82e_row0_col0, #T_fa82e_row0_col2, #T_fa82e_row0_col3, #T_fa82e_row2_col1 {\n",
       "  background-color: lightgreen;\n",
       "}\n",
       "</style>\n",
       "<table id=\"T_fa82e\">\n",
       "  <caption>Performance Comparison of Classifiers</caption>\n",
       "  <thead>\n",
       "    <tr>\n",
       "      <th class=\"blank level0\" >&nbsp;</th>\n",
       "      <th id=\"T_fa82e_level0_col0\" class=\"col_heading level0 col0\" >Accuracy</th>\n",
       "      <th id=\"T_fa82e_level0_col1\" class=\"col_heading level0 col1\" >Precision</th>\n",
       "      <th id=\"T_fa82e_level0_col2\" class=\"col_heading level0 col2\" >Recall</th>\n",
       "      <th id=\"T_fa82e_level0_col3\" class=\"col_heading level0 col3\" >F1 Score</th>\n",
       "    </tr>\n",
       "  </thead>\n",
       "  <tbody>\n",
       "    <tr>\n",
       "      <th id=\"T_fa82e_level0_row0\" class=\"row_heading level0 row0\" >Naive Bayes</th>\n",
       "      <td id=\"T_fa82e_row0_col0\" class=\"data row0 col0\" >0.9562</td>\n",
       "      <td id=\"T_fa82e_row0_col1\" class=\"data row0 col1\" >0.9483</td>\n",
       "      <td id=\"T_fa82e_row0_col2\" class=\"data row0 col2\" >0.9483</td>\n",
       "      <td id=\"T_fa82e_row0_col3\" class=\"data row0 col3\" >0.9483</td>\n",
       "    </tr>\n",
       "    <tr>\n",
       "      <th id=\"T_fa82e_level0_row1\" class=\"row_heading level0 row1\" >Decision Tree</th>\n",
       "      <td id=\"T_fa82e_row1_col0\" class=\"data row1 col0\" >0.9343</td>\n",
       "      <td id=\"T_fa82e_row1_col1\" class=\"data row1 col1\" >0.9623</td>\n",
       "      <td id=\"T_fa82e_row1_col2\" class=\"data row1 col2\" >0.8793</td>\n",
       "      <td id=\"T_fa82e_row1_col3\" class=\"data row1 col3\" >0.9189</td>\n",
       "    </tr>\n",
       "    <tr>\n",
       "      <th id=\"T_fa82e_level0_row2\" class=\"row_heading level0 row2\" >Random Forest</th>\n",
       "      <td id=\"T_fa82e_row2_col0\" class=\"data row2 col0\" >0.9489</td>\n",
       "      <td id=\"T_fa82e_row2_col1\" class=\"data row2 col1\" >0.9811</td>\n",
       "      <td id=\"T_fa82e_row2_col2\" class=\"data row2 col2\" >0.8966</td>\n",
       "      <td id=\"T_fa82e_row2_col3\" class=\"data row2 col3\" >0.9369</td>\n",
       "    </tr>\n",
       "  </tbody>\n",
       "</table>\n"
      ],
      "text/plain": [
       "<pandas.io.formats.style.Styler at 0x20aae4051f0>"
      ]
     },
     "execution_count": 117,
     "metadata": {},
     "output_type": "execute_result"
    }
   ],
   "source": [
    "styled_df = summary_df.style.highlight_max(axis=0, color='lightgreen') \\\n",
    "                             .format(\"{:.4f}\") \\\n",
    "                             .set_caption(\"Performance Comparison of Classifiers\")\n",
    "\n",
    "styled_df"
   ]
  },
  {
   "cell_type": "markdown",
   "id": "d059a2b9-c221-4d6d-9323-53911886783f",
   "metadata": {},
   "source": [
    "# Confusion Matrix"
   ]
  },
  {
   "cell_type": "code",
   "execution_count": 125,
   "id": "f8e0d472-ac21-4961-b94b-f4a7417b702f",
   "metadata": {},
   "outputs": [
    {
     "data": {
      "image/png": "[encoded data removed]",
      "text/plain": [
       "<Figure size 500x400 with 1 Axes>"
      ]
     },
     "metadata": {},
     "output_type": "display_data"
    },
    {
     "data": {
      "image/png": "[encoded data removed]",
      "text/plain": [
       "<Figure size 500x400 with 1 Axes>"
      ]
     },
     "metadata": {},
     "output_type": "display_data"
    },
    {
     "data": {
      "image/png": "[encoded data removed]",
      "text/plain": [
       "<Figure size 500x400 with 1 Axes>"
      ]
     },
     "metadata": {},
     "output_type": "display_data"
    }
   ],
   "source": [
    "# Define a labeled confusion matrix plot function\n",
    "def plot_labeled_conf_matrix(cm, model_name):\n",
    "    plt.figure(figsize=(5, 4))\n",
    "    sns.heatmap(cm, annot=True, fmt=\"d\", cmap=\"Blues\", cbar=False,\n",
    "                xticklabels=[\"Predicted Benign\", \"Predicted Malignant\"],\n",
    "                yticklabels=[\"Actual Benign\", \"Actual Malignant\"])\n",
    "    plt.title(f\"{model_name} - Confusion Matrix\")\n",
    "    plt.xlabel(\"Predicted Label\")\n",
    "    plt.ylabel(\"True Label\")\n",
    "    plt.tight_layout()\n",
    "    plt.show()\n",
    "\n",
    "# Generate confusion matrices\n",
    "nb_cm = confusion_matrix(y_test, nb_model.predict(X_test))\n",
    "dt_cm = confusion_matrix(y_test, dt_model.predict(X_test))\n",
    "rf_cm = confusion_matrix(y_test, rf_model.predict(X_test))\n",
    "\n",
    "# Plot each confusion matrix with labels\n",
    "plot_labeled_conf_matrix(nb_cm, \"Naive Bayes\")\n",
    "plot_labeled_conf_matrix(dt_cm, \"Decision Tree\")\n",
    "plot_labeled_conf_matrix(rf_cm, \"Random Forest\")\n"
   ]
  },
  {
   "cell_type": "markdown",
   "id": "fd4899bc-8f34-492c-8df7-6262898bb241",
   "metadata": {},
   "source": [
    "Interpretation & Comparison: <br>\n",
    "Naive Bayes performed surprisingly well, likely because the features are fairly independent.\n",
    "\n",
    "Decision Tree had the highest precision, but lower recall — meaning it was more cautious in predicting malignant cases.\n",
    "\n",
    "Random Forest offered a balanced tradeoff between precision and recall and had the best overall F1 Score, indicating strong generalization."
   ]
  },
  {
   "cell_type": "code",
   "execution_count": null,
   "id": "be520f47-b331-4c80-966b-583034ad8dfe",
   "metadata": {},
   "outputs": [],
   "source": []
  }
 ],
 "metadata": {
  "kernelspec": {
   "display_name": "Python 3 (ipykernel)",
   "language": "python",
   "name": "python3"
  },
  "language_info": {
   "codemirror_mode": {
    "name": "ipython",
    "version": 3
   },
   "file_extension": ".py",
   "mimetype": "text/x-python",
   "name": "python",
   "nbconvert_exporter": "python",
   "pygments_lexer": "ipython3",
   "version": "3.12.4"
  }
 },
 "nbformat": 4,
 "nbformat_minor": 5
}
